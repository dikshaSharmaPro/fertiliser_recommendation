{
  "nbformat": 4,
  "nbformat_minor": 0,
  "metadata": {
    "colab": {
      "provenance": [],
      "authorship_tag": "ABX9TyMmii4t7h15qxzB3na6zdcG"
    },
    "kernelspec": {
      "name": "python3",
      "display_name": "Python 3"
    },
    "language_info": {
      "name": "python"
    }
  },
  "cells": [
    {
      "cell_type": "code",
      "source": [
        "import pandas as pd\n",
        "import sys\n",
        "from sklearn.preprocessing import LabelEncoder\n",
        "from sklearn.tree import DecisionTreeClassifier\n",
        "\n",
        "# Load the dataset\n",
        "data = pd.read_csv(\"/content/fertilizer_recommendation.csv\")\n",
        "\n",
        "# Label encoding for categorical features\n",
        "le_soil = LabelEncoder()\n",
        "data['Soil Type'] = le_soil.fit_transform(data['Soil Type'])\n",
        "le_crop = LabelEncoder()\n",
        "data['Crop Type'] = le_crop.fit_transform(data['Crop Type'])\n",
        "\n",
        "# Splitting the data into input and output variables\n",
        "X = data.iloc[:, :8]\n",
        "y = data.iloc[:, -1]\n",
        "\n",
        "# Training the Decision Tree Classifier model\n",
        "dtc = DecisionTreeClassifier(random_state=0)\n",
        "dtc.fit(X, y)\n",
        "\n",
        "# Get the input parameters as command line arguments\n",
        "jsonn = sys.argv[1]\n",
        "jsonp = sys.argv[2]\n",
        "jsonk = sys.argv[3]\n",
        "jsont = sys.argv[4]\n",
        "jsonh = sys.argv[5]\n",
        "jsonsm = sys.argv[6]\n",
        "jsonsoil = sys.argv[7]\n",
        "jsoncrop = sys.argv[8]\n",
        "\n",
        "soil_enc = le_soil.transform([jsonsoil])[0]\n",
        "crop_enc = le_crop.transform([jsoncrop])[0]\n",
        "\n",
        "# Get the user inputs and store them in a numpy array - Urea\n",
        "#user_input = [[26,52,38,'Sandy','Maize',37,0,0]]\n",
        "\n",
        "user_input = [[jsont,jsonh,jsonsm,soil_enc,crop_enc,jsonn,jsonk,jsonp]]\n",
        "\n",
        "fertilizer_name = dtc.predict(user_input)\n",
        "\n",
        "# Return the prediction as a string\n",
        "print(str(fertilizer_name[0]))"
      ],
      "metadata": {
        "id": "8sBx6PAc8tPg"
      },
      "execution_count": null,
      "outputs": []
    }
  ]
}